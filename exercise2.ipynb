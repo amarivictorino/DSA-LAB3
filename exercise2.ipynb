{
 "cells": [
  {
   "cell_type": "code",
   "execution_count": 1,
   "metadata": {},
   "outputs": [
    {
     "name": "stdout",
     "output_type": "stream",
     "text": [
      "[(1, 'mark'), (2, 'alice'), (3, 'john')]\n"
     ]
    }
   ],
   "source": [
    "def create_tuples(list1, list2):\n",
    "    return [(list1[i], list2[i]) for i in range(min(len(list1), len(list2)))]\n",
    "\n",
    "list1 = [1, 2, 3,]\n",
    "list2 = [\"mark\", \"alice\", \"john\"]\n",
    "\n",
    "result = create_tuples(list1, list2)\n",
    "print(result)"
   ]
  }
 ],
 "metadata": {
  "kernelspec": {
   "display_name": "Python 3",
   "language": "python",
   "name": "python3"
  },
  "language_info": {
   "codemirror_mode": {
    "name": "ipython",
    "version": 3
   },
   "file_extension": ".py",
   "mimetype": "text/x-python",
   "name": "python",
   "nbconvert_exporter": "python",
   "pygments_lexer": "ipython3",
   "version": "3.12.2"
  }
 },
 "nbformat": 4,
 "nbformat_minor": 2
}
