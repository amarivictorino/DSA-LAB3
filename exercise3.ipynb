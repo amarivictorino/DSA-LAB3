{
 "cells": [
  {
   "cell_type": "code",
   "execution_count": 1,
   "metadata": {},
   "outputs": [
    {
     "name": "stdout",
     "output_type": "stream",
     "text": [
      "\n",
      "H E l l O ,   w O r l d !\n",
      "h E l l O   h I   b y E\n"
     ]
    }
   ],
   "source": [
    "def vowelsToUpper(s):\n",
    "    return ' '.join([char.upper() if char in 'aeiouAEIOU' else char for char in s])\n",
    "\n",
    "print(vowelsToUpper(\"\"))\n",
    "print(vowelsToUpper(\"Hello, world!\"))\n",
    "print(vowelsToUpper(\"hello hi bye\"))\n"
   ]
  }
 ],
 "metadata": {
  "kernelspec": {
   "display_name": "Python 3",
   "language": "python",
   "name": "python3"
  },
  "language_info": {
   "codemirror_mode": {
    "name": "ipython",
    "version": 3
   },
   "file_extension": ".py",
   "mimetype": "text/x-python",
   "name": "python",
   "nbconvert_exporter": "python",
   "pygments_lexer": "ipython3",
   "version": "3.12.2"
  }
 },
 "nbformat": 4,
 "nbformat_minor": 2
}
